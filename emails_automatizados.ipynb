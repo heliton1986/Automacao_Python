{
  "nbformat": 4,
  "nbformat_minor": 0,
  "metadata": {
    "colab": {
      "name": "emails automatizados.ipynb",
      "provenance": [],
      "collapsed_sections": [],
      "mount_file_id": "19rNtEMUSQhDWKNxkZzpxJhcMNfnczYUH",
      "authorship_tag": "ABX9TyMV0tNgoHBaMgj+s10c2DuA",
      "include_colab_link": true
    },
    "kernelspec": {
      "name": "python3",
      "display_name": "Python 3"
    },
    "language_info": {
      "name": "python"
    }
  },
  "cells": [
    {
      "cell_type": "markdown",
      "metadata": {
        "id": "view-in-github",
        "colab_type": "text"
      },
      "source": [
        "<a href=\"https://colab.research.google.com/github/heliton1986/Automacao_Python/blob/main/emails_automatizados.ipynb\" target=\"_parent\"><img src=\"https://colab.research.google.com/assets/colab-badge.svg\" alt=\"Open In Colab\"/></a>"
      ]
    },
    {
      "cell_type": "code",
      "source": [
        "import sys\n",
        "sys.path.append('/content/drive/MyDrive/Colab Notebooks/Email automatizado')\n",
        "from google.colab import files"
      ],
      "metadata": {
        "id": "FEBNVPNLoqqB"
      },
      "execution_count": null,
      "outputs": []
    },
    {
      "cell_type": "code",
      "source": [
        "!cp /content/drive/MyDrive/Colab\\ Notebooks/Email_Automatizado/segredos.py /content"
      ],
      "metadata": {
        "id": "q_cRA1NxJCto"
      },
      "execution_count": null,
      "outputs": []
    },
    {
      "cell_type": "code",
      "source": [
        "import segredos\n",
        "from segredos import senha"
      ],
      "metadata": {
        "id": "rGEf8QRSJPXH"
      },
      "execution_count": null,
      "outputs": []
    },
    {
      "cell_type": "code",
      "execution_count": null,
      "metadata": {
        "id": "hTNMEGr1T9XS",
        "colab": {
          "base_uri": "https://localhost:8080/"
        },
        "outputId": "d3887638-c5ce-499f-e1ee-8c7dfc28832a"
      },
      "outputs": [
        {
          "output_type": "stream",
          "name": "stdout",
          "text": [
            "heliton.ds86@gmail.com\n",
            "Email enviado\n",
            "heliton.mmn@gmail.com\n",
            "Email enviado\n"
          ]
        }
      ],
      "source": [
        "import smtplib\n",
        "import email.message\n",
        "\n",
        "destinatarios = ['heliton.ds86@gmail.com', 'heliton.mmn@gmail.com']\n",
        "\n",
        "def enviar_email(destinatarios):  \n",
        "    corpo_email = \"\"\"\n",
        "    Bom dia a todos\n",
        "    Vamos começar\n",
        "    \"\"\"\n",
        "\n",
        "    msg = email.message.Message()\n",
        "    msg['Subject'] = \"Novo email\"\n",
        "    msg['From'] = 'heliton.ds86@gmail.com'\n",
        "    msg['To'] = destinatarios\n",
        "    password = senha\n",
        "    msg.add_header('Content-Type', 'text/html')\n",
        "    msg.set_payload(corpo_email )\n",
        "\n",
        "    s = smtplib.SMTP('smtp.gmail.com: 587')\n",
        "    s.starttls()\n",
        "    \n",
        "    # Login Credentials for sending the mail\n",
        "    s.login(msg['From'], password)\n",
        "    s.sendmail(msg['From'], [msg['To']], msg.as_string().encode('utf-8'))\n",
        "    print('Email enviado')\n",
        "\n",
        "for enderecos_email in destinatarios:\n",
        "  print(enderecos_email)\n",
        "  enviar_email(enderecos_email)"
      ]
    },
    {
      "cell_type": "code",
      "source": [
        "enviar_email(enderecos_email)"
      ],
      "metadata": {
        "colab": {
          "base_uri": "https://localhost:8080/"
        },
        "id": "KYxwKkCFZC_d",
        "outputId": "00d099f0-0192-4b07-a279-29ceb4251504"
      },
      "execution_count": null,
      "outputs": [
        {
          "output_type": "stream",
          "name": "stdout",
          "text": [
            "Email enviado\n"
          ]
        }
      ]
    },
    {
      "cell_type": "code",
      "source": [
        ""
      ],
      "metadata": {
        "id": "K7JR3DWyPUcS"
      },
      "execution_count": null,
      "outputs": []
    }
  ]
}